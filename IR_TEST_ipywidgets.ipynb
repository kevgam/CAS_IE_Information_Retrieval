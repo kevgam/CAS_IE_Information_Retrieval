{
  "nbformat": 4,
  "nbformat_minor": 0,
  "metadata": {
    "colab": {
      "provenance": [],
      "include_colab_link": true
    },
    "kernelspec": {
      "name": "python3",
      "display_name": "Python 3"
    },
    "language_info": {
      "name": "python"
    },
    "widgets": {
      "application/vnd.jupyter.widget-state+json": {
        "4556bbf4c22e48cab904864e7fdae5a3": {
          "model_module": "@jupyter-widgets/controls",
          "model_name": "VBoxModel",
          "model_module_version": "1.5.0",
          "state": {
            "_dom_classes": [
              "widget-interact"
            ],
            "_model_module": "@jupyter-widgets/controls",
            "_model_module_version": "1.5.0",
            "_model_name": "VBoxModel",
            "_view_count": null,
            "_view_module": "@jupyter-widgets/controls",
            "_view_module_version": "1.5.0",
            "_view_name": "VBoxView",
            "box_style": "",
            "children": [
              "IPY_MODEL_c008cf716aaf4291b294acaf92b3a516",
              "IPY_MODEL_40c13d8515104ad79fa6ed6dcec576e7"
            ],
            "layout": "IPY_MODEL_2597b1b690fc454087027d8fd65de26c"
          }
        },
        "c008cf716aaf4291b294acaf92b3a516": {
          "model_module": "@jupyter-widgets/controls",
          "model_name": "DropdownModel",
          "model_module_version": "1.5.0",
          "state": {
            "_dom_classes": [],
            "_model_module": "@jupyter-widgets/controls",
            "_model_module_version": "1.5.0",
            "_model_name": "DropdownModel",
            "_options_labels": [
              "anger",
              "fear",
              "anticipation",
              "trust",
              "surprise",
              "sadness",
              "joy",
              "disgust"
            ],
            "_view_count": null,
            "_view_module": "@jupyter-widgets/controls",
            "_view_module_version": "1.5.0",
            "_view_name": "DropdownView",
            "description": "Emotion:",
            "description_tooltip": null,
            "disabled": false,
            "index": 0,
            "layout": "IPY_MODEL_9a5b0935b0db49fd9ee48f871cdb9eab",
            "style": "IPY_MODEL_a7dbc1cd6e544bd5b87952aeb8d5dfdb"
          }
        },
        "40c13d8515104ad79fa6ed6dcec576e7": {
          "model_module": "@jupyter-widgets/output",
          "model_name": "OutputModel",
          "model_module_version": "1.0.0",
          "state": {
            "_dom_classes": [],
            "_model_module": "@jupyter-widgets/output",
            "_model_module_version": "1.0.0",
            "_model_name": "OutputModel",
            "_view_count": null,
            "_view_module": "@jupyter-widgets/output",
            "_view_module_version": "1.0.0",
            "_view_name": "OutputView",
            "layout": "IPY_MODEL_dc250735d7184ea2a54a10c79affa0c6",
            "msg_id": "",
            "outputs": [
              {
                "output_type": "stream",
                "name": "stdout",
                "text": [
                  "Gefundene Songs mit Emotion 'anger': 14584\n"
                ]
              },
              {
                "output_type": "display_data",
                "data": {
                  "text/plain": "                         name                artists primary_emotion\n11           Have It Your Way          Mario Cantone           anger\n14           In Loving Memory                Secrets           anger\n15       Mike Aaron And Eddie            Haiku DEtat           anger\n29                   1 Stunna             Big Tymers           anger\n39                      W W C       The Main Squeeze           anger\n...                       ...                    ...             ...\n136842  너 땜에 맘이 맘이 맘이 맘이 괴로워요  deaths dynamic shroud           anger\n136846                 바보같은 나          Kim Jong Kook           anger\n136856         buy Me Flowers            Joy Wellboy           anger\n136857        caress Me Sweet            Joy Wellboy           anger\n136858      my Heart Ran Away            Joy Wellboy           anger\n\n[14584 rows x 3 columns]",
                  "text/html": "\n  <div id=\"df-f4f80b0f-0761-417c-b90f-016a21bde070\" class=\"colab-df-container\">\n    <div>\n<style scoped>\n    .dataframe tbody tr th:only-of-type {\n        vertical-align: middle;\n    }\n\n    .dataframe tbody tr th {\n        vertical-align: top;\n    }\n\n    .dataframe thead th {\n        text-align: right;\n    }\n</style>\n<table border=\"1\" class=\"dataframe\">\n  <thead>\n    <tr style=\"text-align: right;\">\n      <th></th>\n      <th>name</th>\n      <th>artists</th>\n      <th>primary_emotion</th>\n    </tr>\n  </thead>\n  <tbody>\n    <tr>\n      <th>11</th>\n      <td>Have It Your Way</td>\n      <td>Mario Cantone</td>\n      <td>anger</td>\n    </tr>\n    <tr>\n      <th>14</th>\n      <td>In Loving Memory</td>\n      <td>Secrets</td>\n      <td>anger</td>\n    </tr>\n    <tr>\n      <th>15</th>\n      <td>Mike Aaron And Eddie</td>\n      <td>Haiku DEtat</td>\n      <td>anger</td>\n    </tr>\n    <tr>\n      <th>29</th>\n      <td>1 Stunna</td>\n      <td>Big Tymers</td>\n      <td>anger</td>\n    </tr>\n    <tr>\n      <th>39</th>\n      <td>W W C</td>\n      <td>The Main Squeeze</td>\n      <td>anger</td>\n    </tr>\n    <tr>\n      <th>...</th>\n      <td>...</td>\n      <td>...</td>\n      <td>...</td>\n    </tr>\n    <tr>\n      <th>136842</th>\n      <td>너 땜에 맘이 맘이 맘이 맘이 괴로워요</td>\n      <td>deaths dynamic shroud</td>\n      <td>anger</td>\n    </tr>\n    <tr>\n      <th>136846</th>\n      <td>바보같은 나</td>\n      <td>Kim Jong Kook</td>\n      <td>anger</td>\n    </tr>\n    <tr>\n      <th>136856</th>\n      <td>buy Me Flowers</td>\n      <td>Joy Wellboy</td>\n      <td>anger</td>\n    </tr>\n    <tr>\n      <th>136857</th>\n      <td>caress Me Sweet</td>\n      <td>Joy Wellboy</td>\n      <td>anger</td>\n    </tr>\n    <tr>\n      <th>136858</th>\n      <td>my Heart Ran Away</td>\n      <td>Joy Wellboy</td>\n      <td>anger</td>\n    </tr>\n  </tbody>\n</table>\n<p>14584 rows × 3 columns</p>\n</div>\n    <div class=\"colab-df-buttons\">\n\n  <div class=\"colab-df-container\">\n    <button class=\"colab-df-convert\" onclick=\"convertToInteractive('df-f4f80b0f-0761-417c-b90f-016a21bde070')\"\n            title=\"Convert this dataframe to an interactive table.\"\n            style=\"display:none;\">\n\n  <svg xmlns=\"http://www.w3.org/2000/svg\" height=\"24px\" viewBox=\"0 -960 960 960\">\n    <path d=\"M120-120v-720h720v720H120Zm60-500h600v-160H180v160Zm220 220h160v-160H400v160Zm0 220h160v-160H400v160ZM180-400h160v-160H180v160Zm440 0h160v-160H620v160ZM180-180h160v-160H180v160Zm440 0h160v-160H620v160Z\"/>\n  </svg>\n    </button>\n\n  <style>\n    .colab-df-container {\n      display:flex;\n      gap: 12px;\n    }\n\n    .colab-df-convert {\n      background-color: #E8F0FE;\n      border: none;\n      border-radius: 50%;\n      cursor: pointer;\n      display: none;\n      fill: #1967D2;\n      height: 32px;\n      padding: 0 0 0 0;\n      width: 32px;\n    }\n\n    .colab-df-convert:hover {\n      background-color: #E2EBFA;\n      box-shadow: 0px 1px 2px rgba(60, 64, 67, 0.3), 0px 1px 3px 1px rgba(60, 64, 67, 0.15);\n      fill: #174EA6;\n    }\n\n    .colab-df-buttons div {\n      margin-bottom: 4px;\n    }\n\n    [theme=dark] .colab-df-convert {\n      background-color: #3B4455;\n      fill: #D2E3FC;\n    }\n\n    [theme=dark] .colab-df-convert:hover {\n      background-color: #434B5C;\n      box-shadow: 0px 1px 3px 1px rgba(0, 0, 0, 0.15);\n      filter: drop-shadow(0px 1px 2px rgba(0, 0, 0, 0.3));\n      fill: #FFFFFF;\n    }\n  </style>\n\n    <script>\n      const buttonEl =\n        document.querySelector('#df-f4f80b0f-0761-417c-b90f-016a21bde070 button.colab-df-convert');\n      buttonEl.style.display =\n        google.colab.kernel.accessAllowed ? 'block' : 'none';\n\n      async function convertToInteractive(key) {\n        const element = document.querySelector('#df-f4f80b0f-0761-417c-b90f-016a21bde070');\n        const dataTable =\n          await google.colab.kernel.invokeFunction('convertToInteractive',\n                                                    [key], {});\n        if (!dataTable) return;\n\n        const docLinkHtml = 'Like what you see? Visit the ' +\n          '<a target=\"_blank\" href=https://colab.research.google.com/notebooks/data_table.ipynb>data table notebook</a>'\n          + ' to learn more about interactive tables.';\n        element.innerHTML = '';\n        dataTable['output_type'] = 'display_data';\n        await google.colab.output.renderOutput(dataTable, element);\n        const docLink = document.createElement('div');\n        docLink.innerHTML = docLinkHtml;\n        element.appendChild(docLink);\n      }\n    </script>\n  </div>\n\n\n<div id=\"df-99459ee1-1316-4493-94b8-f7137fca0729\">\n  <button class=\"colab-df-quickchart\" onclick=\"quickchart('df-99459ee1-1316-4493-94b8-f7137fca0729')\"\n            title=\"Suggest charts\"\n            style=\"display:none;\">\n\n<svg xmlns=\"http://www.w3.org/2000/svg\" height=\"24px\"viewBox=\"0 0 24 24\"\n     width=\"24px\">\n    <g>\n        <path d=\"M19 3H5c-1.1 0-2 .9-2 2v14c0 1.1.9 2 2 2h14c1.1 0 2-.9 2-2V5c0-1.1-.9-2-2-2zM9 17H7v-7h2v7zm4 0h-2V7h2v10zm4 0h-2v-4h2v4z\"/>\n    </g>\n</svg>\n  </button>\n\n<style>\n  .colab-df-quickchart {\n      --bg-color: #E8F0FE;\n      --fill-color: #1967D2;\n      --hover-bg-color: #E2EBFA;\n      --hover-fill-color: #174EA6;\n      --disabled-fill-color: #AAA;\n      --disabled-bg-color: #DDD;\n  }\n\n  [theme=dark] .colab-df-quickchart {\n      --bg-color: #3B4455;\n      --fill-color: #D2E3FC;\n      --hover-bg-color: #434B5C;\n      --hover-fill-color: #FFFFFF;\n      --disabled-bg-color: #3B4455;\n      --disabled-fill-color: #666;\n  }\n\n  .colab-df-quickchart {\n    background-color: var(--bg-color);\n    border: none;\n    border-radius: 50%;\n    cursor: pointer;\n    display: none;\n    fill: var(--fill-color);\n    height: 32px;\n    padding: 0;\n    width: 32px;\n  }\n\n  .colab-df-quickchart:hover {\n    background-color: var(--hover-bg-color);\n    box-shadow: 0 1px 2px rgba(60, 64, 67, 0.3), 0 1px 3px 1px rgba(60, 64, 67, 0.15);\n    fill: var(--button-hover-fill-color);\n  }\n\n  .colab-df-quickchart-complete:disabled,\n  .colab-df-quickchart-complete:disabled:hover {\n    background-color: var(--disabled-bg-color);\n    fill: var(--disabled-fill-color);\n    box-shadow: none;\n  }\n\n  .colab-df-spinner {\n    border: 2px solid var(--fill-color);\n    border-color: transparent;\n    border-bottom-color: var(--fill-color);\n    animation:\n      spin 1s steps(1) infinite;\n  }\n\n  @keyframes spin {\n    0% {\n      border-color: transparent;\n      border-bottom-color: var(--fill-color);\n      border-left-color: var(--fill-color);\n    }\n    20% {\n      border-color: transparent;\n      border-left-color: var(--fill-color);\n      border-top-color: var(--fill-color);\n    }\n    30% {\n      border-color: transparent;\n      border-left-color: var(--fill-color);\n      border-top-color: var(--fill-color);\n      border-right-color: var(--fill-color);\n    }\n    40% {\n      border-color: transparent;\n      border-right-color: var(--fill-color);\n      border-top-color: var(--fill-color);\n    }\n    60% {\n      border-color: transparent;\n      border-right-color: var(--fill-color);\n    }\n    80% {\n      border-color: transparent;\n      border-right-color: var(--fill-color);\n      border-bottom-color: var(--fill-color);\n    }\n    90% {\n      border-color: transparent;\n      border-bottom-color: var(--fill-color);\n    }\n  }\n</style>\n\n  <script>\n    async function quickchart(key) {\n      const quickchartButtonEl =\n        document.querySelector('#' + key + ' button');\n      quickchartButtonEl.disabled = true;  // To prevent multiple clicks.\n      quickchartButtonEl.classList.add('colab-df-spinner');\n      try {\n        const charts = await google.colab.kernel.invokeFunction(\n            'suggestCharts', [key], {});\n      } catch (error) {\n        console.error('Error during call to suggestCharts:', error);\n      }\n      quickchartButtonEl.classList.remove('colab-df-spinner');\n      quickchartButtonEl.classList.add('colab-df-quickchart-complete');\n    }\n    (() => {\n      let quickchartButtonEl =\n        document.querySelector('#df-99459ee1-1316-4493-94b8-f7137fca0729 button');\n      quickchartButtonEl.style.display =\n        google.colab.kernel.accessAllowed ? 'block' : 'none';\n    })();\n  </script>\n</div>\n\n    </div>\n  </div>\n",
                  "application/vnd.google.colaboratory.intrinsic+json": {
                    "type": "dataframe",
                    "summary": "{\n  \"name\": \"interact(plot_emotions, emotion=emotion_dropdown)\",\n  \"rows\": 14584,\n  \"fields\": [\n    {\n      \"column\": \"name\",\n      \"properties\": {\n        \"dtype\": \"string\",\n        \"num_unique_values\": 13625,\n        \"samples\": [\n          \"Myth\",\n          \"Attack\",\n          \"Hiding In Shadows\"\n        ],\n        \"semantic_type\": \"\",\n        \"description\": \"\"\n      }\n    },\n    {\n      \"column\": \"artists\",\n      \"properties\": {\n        \"dtype\": \"string\",\n        \"num_unique_values\": 8588,\n        \"samples\": [\n          \"HiC\",\n          \"Taproot\",\n          \"Lissa Schneckenburger\"\n        ],\n        \"semantic_type\": \"\",\n        \"description\": \"\"\n      }\n    },\n    {\n      \"column\": \"primary_emotion\",\n      \"properties\": {\n        \"dtype\": \"category\",\n        \"num_unique_values\": 1,\n        \"samples\": [\n          \"anger\"\n        ],\n        \"semantic_type\": \"\",\n        \"description\": \"\"\n      }\n    }\n  ]\n}"
                  }
                },
                "metadata": {}
              }
            ]
          }
        },
        "2597b1b690fc454087027d8fd65de26c": {
          "model_module": "@jupyter-widgets/base",
          "model_name": "LayoutModel",
          "model_module_version": "1.2.0",
          "state": {
            "_model_module": "@jupyter-widgets/base",
            "_model_module_version": "1.2.0",
            "_model_name": "LayoutModel",
            "_view_count": null,
            "_view_module": "@jupyter-widgets/base",
            "_view_module_version": "1.2.0",
            "_view_name": "LayoutView",
            "align_content": null,
            "align_items": null,
            "align_self": null,
            "border": null,
            "bottom": null,
            "display": null,
            "flex": null,
            "flex_flow": null,
            "grid_area": null,
            "grid_auto_columns": null,
            "grid_auto_flow": null,
            "grid_auto_rows": null,
            "grid_column": null,
            "grid_gap": null,
            "grid_row": null,
            "grid_template_areas": null,
            "grid_template_columns": null,
            "grid_template_rows": null,
            "height": null,
            "justify_content": null,
            "justify_items": null,
            "left": null,
            "margin": null,
            "max_height": null,
            "max_width": null,
            "min_height": null,
            "min_width": null,
            "object_fit": null,
            "object_position": null,
            "order": null,
            "overflow": null,
            "overflow_x": null,
            "overflow_y": null,
            "padding": null,
            "right": null,
            "top": null,
            "visibility": null,
            "width": null
          }
        },
        "9a5b0935b0db49fd9ee48f871cdb9eab": {
          "model_module": "@jupyter-widgets/base",
          "model_name": "LayoutModel",
          "model_module_version": "1.2.0",
          "state": {
            "_model_module": "@jupyter-widgets/base",
            "_model_module_version": "1.2.0",
            "_model_name": "LayoutModel",
            "_view_count": null,
            "_view_module": "@jupyter-widgets/base",
            "_view_module_version": "1.2.0",
            "_view_name": "LayoutView",
            "align_content": null,
            "align_items": null,
            "align_self": null,
            "border": null,
            "bottom": null,
            "display": null,
            "flex": null,
            "flex_flow": null,
            "grid_area": null,
            "grid_auto_columns": null,
            "grid_auto_flow": null,
            "grid_auto_rows": null,
            "grid_column": null,
            "grid_gap": null,
            "grid_row": null,
            "grid_template_areas": null,
            "grid_template_columns": null,
            "grid_template_rows": null,
            "height": null,
            "justify_content": null,
            "justify_items": null,
            "left": null,
            "margin": null,
            "max_height": null,
            "max_width": null,
            "min_height": null,
            "min_width": null,
            "object_fit": null,
            "object_position": null,
            "order": null,
            "overflow": null,
            "overflow_x": null,
            "overflow_y": null,
            "padding": null,
            "right": null,
            "top": null,
            "visibility": null,
            "width": null
          }
        },
        "a7dbc1cd6e544bd5b87952aeb8d5dfdb": {
          "model_module": "@jupyter-widgets/controls",
          "model_name": "DescriptionStyleModel",
          "model_module_version": "1.5.0",
          "state": {
            "_model_module": "@jupyter-widgets/controls",
            "_model_module_version": "1.5.0",
            "_model_name": "DescriptionStyleModel",
            "_view_count": null,
            "_view_module": "@jupyter-widgets/base",
            "_view_module_version": "1.2.0",
            "_view_name": "StyleView",
            "description_width": ""
          }
        },
        "dc250735d7184ea2a54a10c79affa0c6": {
          "model_module": "@jupyter-widgets/base",
          "model_name": "LayoutModel",
          "model_module_version": "1.2.0",
          "state": {
            "_model_module": "@jupyter-widgets/base",
            "_model_module_version": "1.2.0",
            "_model_name": "LayoutModel",
            "_view_count": null,
            "_view_module": "@jupyter-widgets/base",
            "_view_module_version": "1.2.0",
            "_view_name": "LayoutView",
            "align_content": null,
            "align_items": null,
            "align_self": null,
            "border": null,
            "bottom": null,
            "display": null,
            "flex": null,
            "flex_flow": null,
            "grid_area": null,
            "grid_auto_columns": null,
            "grid_auto_flow": null,
            "grid_auto_rows": null,
            "grid_column": null,
            "grid_gap": null,
            "grid_row": null,
            "grid_template_areas": null,
            "grid_template_columns": null,
            "grid_template_rows": null,
            "height": null,
            "justify_content": null,
            "justify_items": null,
            "left": null,
            "margin": null,
            "max_height": null,
            "max_width": null,
            "min_height": null,
            "min_width": null,
            "object_fit": null,
            "object_position": null,
            "order": null,
            "overflow": null,
            "overflow_x": null,
            "overflow_y": null,
            "padding": null,
            "right": null,
            "top": null,
            "visibility": null,
            "width": null
          }
        },
        "9edb32af66cf4ec6b1864cdd3a1b65d5": {
          "model_module": "@jupyter-widgets/controls",
          "model_name": "VBoxModel",
          "model_module_version": "1.5.0",
          "state": {
            "_dom_classes": [
              "widget-interact"
            ],
            "_model_module": "@jupyter-widgets/controls",
            "_model_module_version": "1.5.0",
            "_model_name": "VBoxModel",
            "_view_count": null,
            "_view_module": "@jupyter-widgets/controls",
            "_view_module_version": "1.5.0",
            "_view_name": "VBoxView",
            "box_style": "",
            "children": [
              "IPY_MODEL_7c4a5d6cafdb4988a93e58df9f129614",
              "IPY_MODEL_25f8a5905d8944049bc64947b0a8bea1"
            ],
            "layout": "IPY_MODEL_ea2e1ccfbc47432595f0477c0875f70e"
          }
        },
        "7c4a5d6cafdb4988a93e58df9f129614": {
          "model_module": "@jupyter-widgets/controls",
          "model_name": "FloatSliderModel",
          "model_module_version": "1.5.0",
          "state": {
            "_dom_classes": [],
            "_model_module": "@jupyter-widgets/controls",
            "_model_module_version": "1.5.0",
            "_model_name": "FloatSliderModel",
            "_view_count": null,
            "_view_module": "@jupyter-widgets/controls",
            "_view_module_version": "1.5.0",
            "_view_name": "FloatSliderView",
            "continuous_update": true,
            "description": "Pos/Neg Ratio:",
            "description_tooltip": null,
            "disabled": false,
            "layout": "IPY_MODEL_ac1834d3aa7f4891a7be5a6213e90750",
            "max": 1,
            "min": 0,
            "orientation": "horizontal",
            "readout": true,
            "readout_format": ".2f",
            "step": 0.1,
            "style": "IPY_MODEL_4d1bc54dd0e44b7e953cb941e86a92d7",
            "value": 0
          }
        },
        "25f8a5905d8944049bc64947b0a8bea1": {
          "model_module": "@jupyter-widgets/output",
          "model_name": "OutputModel",
          "model_module_version": "1.0.0",
          "state": {
            "_dom_classes": [],
            "_model_module": "@jupyter-widgets/output",
            "_model_module_version": "1.0.0",
            "_model_name": "OutputModel",
            "_view_count": null,
            "_view_module": "@jupyter-widgets/output",
            "_view_module_version": "1.0.0",
            "_view_name": "OutputView",
            "layout": "IPY_MODEL_aaad96d1b3554b14b5c98ea43d45f863",
            "msg_id": "",
            "outputs": [
              {
                "output_type": "stream",
                "name": "stdout",
                "text": [
                  "Gefundene Songs mit Sentiment-Ratio >= 0.0: 136862\n"
                ]
              },
              {
                "output_type": "display_data",
                "data": {
                  "text/plain": "                                                     name  \\\n0                             B Movie Box Car Blues  Live   \n1                                           BabyRock Rock   \n2                                                    Boom   \n3       Dearly Departed  Live from Spotify Sxsw 2014 f...   \n4                                                 E Train   \n...                                                   ...   \n136857                                    caress Me Sweet   \n136858                                  my Heart Ran Away   \n136859                                          what Baby   \n136860                                                NaN   \n136861                                                NaN   \n\n                                artists  sentiment_ratio  \n0       The Blues Brothers Joe Gastwirt                0  \n1                             Clorofila                0  \n2                        MY FIRST STORY                0  \n3                         Shakey Graves                0  \n4                            Jonny Lang                0  \n...                                 ...              ...  \n136857                      Joy Wellboy                0  \n136858                      Joy Wellboy                0  \n136859                      Joy Wellboy                0  \n136860                      Strangeways                0  \n136861                         SuperKek                0  \n\n[136862 rows x 3 columns]",
                  "text/html": "\n  <div id=\"df-a4f83d10-d254-4fd9-ba72-69801a0d429c\" class=\"colab-df-container\">\n    <div>\n<style scoped>\n    .dataframe tbody tr th:only-of-type {\n        vertical-align: middle;\n    }\n\n    .dataframe tbody tr th {\n        vertical-align: top;\n    }\n\n    .dataframe thead th {\n        text-align: right;\n    }\n</style>\n<table border=\"1\" class=\"dataframe\">\n  <thead>\n    <tr style=\"text-align: right;\">\n      <th></th>\n      <th>name</th>\n      <th>artists</th>\n      <th>sentiment_ratio</th>\n    </tr>\n  </thead>\n  <tbody>\n    <tr>\n      <th>0</th>\n      <td>B Movie Box Car Blues  Live</td>\n      <td>The Blues Brothers Joe Gastwirt</td>\n      <td>0</td>\n    </tr>\n    <tr>\n      <th>1</th>\n      <td>BabyRock Rock</td>\n      <td>Clorofila</td>\n      <td>0</td>\n    </tr>\n    <tr>\n      <th>2</th>\n      <td>Boom</td>\n      <td>MY FIRST STORY</td>\n      <td>0</td>\n    </tr>\n    <tr>\n      <th>3</th>\n      <td>Dearly Departed  Live from Spotify Sxsw 2014 f...</td>\n      <td>Shakey Graves</td>\n      <td>0</td>\n    </tr>\n    <tr>\n      <th>4</th>\n      <td>E Train</td>\n      <td>Jonny Lang</td>\n      <td>0</td>\n    </tr>\n    <tr>\n      <th>...</th>\n      <td>...</td>\n      <td>...</td>\n      <td>...</td>\n    </tr>\n    <tr>\n      <th>136857</th>\n      <td>caress Me Sweet</td>\n      <td>Joy Wellboy</td>\n      <td>0</td>\n    </tr>\n    <tr>\n      <th>136858</th>\n      <td>my Heart Ran Away</td>\n      <td>Joy Wellboy</td>\n      <td>0</td>\n    </tr>\n    <tr>\n      <th>136859</th>\n      <td>what Baby</td>\n      <td>Joy Wellboy</td>\n      <td>0</td>\n    </tr>\n    <tr>\n      <th>136860</th>\n      <td>NaN</td>\n      <td>Strangeways</td>\n      <td>0</td>\n    </tr>\n    <tr>\n      <th>136861</th>\n      <td>NaN</td>\n      <td>SuperKek</td>\n      <td>0</td>\n    </tr>\n  </tbody>\n</table>\n<p>136862 rows × 3 columns</p>\n</div>\n    <div class=\"colab-df-buttons\">\n\n  <div class=\"colab-df-container\">\n    <button class=\"colab-df-convert\" onclick=\"convertToInteractive('df-a4f83d10-d254-4fd9-ba72-69801a0d429c')\"\n            title=\"Convert this dataframe to an interactive table.\"\n            style=\"display:none;\">\n\n  <svg xmlns=\"http://www.w3.org/2000/svg\" height=\"24px\" viewBox=\"0 -960 960 960\">\n    <path d=\"M120-120v-720h720v720H120Zm60-500h600v-160H180v160Zm220 220h160v-160H400v160Zm0 220h160v-160H400v160ZM180-400h160v-160H180v160Zm440 0h160v-160H620v160ZM180-180h160v-160H180v160Zm440 0h160v-160H620v160Z\"/>\n  </svg>\n    </button>\n\n  <style>\n    .colab-df-container {\n      display:flex;\n      gap: 12px;\n    }\n\n    .colab-df-convert {\n      background-color: #E8F0FE;\n      border: none;\n      border-radius: 50%;\n      cursor: pointer;\n      display: none;\n      fill: #1967D2;\n      height: 32px;\n      padding: 0 0 0 0;\n      width: 32px;\n    }\n\n    .colab-df-convert:hover {\n      background-color: #E2EBFA;\n      box-shadow: 0px 1px 2px rgba(60, 64, 67, 0.3), 0px 1px 3px 1px rgba(60, 64, 67, 0.15);\n      fill: #174EA6;\n    }\n\n    .colab-df-buttons div {\n      margin-bottom: 4px;\n    }\n\n    [theme=dark] .colab-df-convert {\n      background-color: #3B4455;\n      fill: #D2E3FC;\n    }\n\n    [theme=dark] .colab-df-convert:hover {\n      background-color: #434B5C;\n      box-shadow: 0px 1px 3px 1px rgba(0, 0, 0, 0.15);\n      filter: drop-shadow(0px 1px 2px rgba(0, 0, 0, 0.3));\n      fill: #FFFFFF;\n    }\n  </style>\n\n    <script>\n      const buttonEl =\n        document.querySelector('#df-a4f83d10-d254-4fd9-ba72-69801a0d429c button.colab-df-convert');\n      buttonEl.style.display =\n        google.colab.kernel.accessAllowed ? 'block' : 'none';\n\n      async function convertToInteractive(key) {\n        const element = document.querySelector('#df-a4f83d10-d254-4fd9-ba72-69801a0d429c');\n        const dataTable =\n          await google.colab.kernel.invokeFunction('convertToInteractive',\n                                                    [key], {});\n        if (!dataTable) return;\n\n        const docLinkHtml = 'Like what you see? Visit the ' +\n          '<a target=\"_blank\" href=https://colab.research.google.com/notebooks/data_table.ipynb>data table notebook</a>'\n          + ' to learn more about interactive tables.';\n        element.innerHTML = '';\n        dataTable['output_type'] = 'display_data';\n        await google.colab.output.renderOutput(dataTable, element);\n        const docLink = document.createElement('div');\n        docLink.innerHTML = docLinkHtml;\n        element.appendChild(docLink);\n      }\n    </script>\n  </div>\n\n\n<div id=\"df-5b1f86ae-b863-430e-86cd-8d5f193a2ba7\">\n  <button class=\"colab-df-quickchart\" onclick=\"quickchart('df-5b1f86ae-b863-430e-86cd-8d5f193a2ba7')\"\n            title=\"Suggest charts\"\n            style=\"display:none;\">\n\n<svg xmlns=\"http://www.w3.org/2000/svg\" height=\"24px\"viewBox=\"0 0 24 24\"\n     width=\"24px\">\n    <g>\n        <path d=\"M19 3H5c-1.1 0-2 .9-2 2v14c0 1.1.9 2 2 2h14c1.1 0 2-.9 2-2V5c0-1.1-.9-2-2-2zM9 17H7v-7h2v7zm4 0h-2V7h2v10zm4 0h-2v-4h2v4z\"/>\n    </g>\n</svg>\n  </button>\n\n<style>\n  .colab-df-quickchart {\n      --bg-color: #E8F0FE;\n      --fill-color: #1967D2;\n      --hover-bg-color: #E2EBFA;\n      --hover-fill-color: #174EA6;\n      --disabled-fill-color: #AAA;\n      --disabled-bg-color: #DDD;\n  }\n\n  [theme=dark] .colab-df-quickchart {\n      --bg-color: #3B4455;\n      --fill-color: #D2E3FC;\n      --hover-bg-color: #434B5C;\n      --hover-fill-color: #FFFFFF;\n      --disabled-bg-color: #3B4455;\n      --disabled-fill-color: #666;\n  }\n\n  .colab-df-quickchart {\n    background-color: var(--bg-color);\n    border: none;\n    border-radius: 50%;\n    cursor: pointer;\n    display: none;\n    fill: var(--fill-color);\n    height: 32px;\n    padding: 0;\n    width: 32px;\n  }\n\n  .colab-df-quickchart:hover {\n    background-color: var(--hover-bg-color);\n    box-shadow: 0 1px 2px rgba(60, 64, 67, 0.3), 0 1px 3px 1px rgba(60, 64, 67, 0.15);\n    fill: var(--button-hover-fill-color);\n  }\n\n  .colab-df-quickchart-complete:disabled,\n  .colab-df-quickchart-complete:disabled:hover {\n    background-color: var(--disabled-bg-color);\n    fill: var(--disabled-fill-color);\n    box-shadow: none;\n  }\n\n  .colab-df-spinner {\n    border: 2px solid var(--fill-color);\n    border-color: transparent;\n    border-bottom-color: var(--fill-color);\n    animation:\n      spin 1s steps(1) infinite;\n  }\n\n  @keyframes spin {\n    0% {\n      border-color: transparent;\n      border-bottom-color: var(--fill-color);\n      border-left-color: var(--fill-color);\n    }\n    20% {\n      border-color: transparent;\n      border-left-color: var(--fill-color);\n      border-top-color: var(--fill-color);\n    }\n    30% {\n      border-color: transparent;\n      border-left-color: var(--fill-color);\n      border-top-color: var(--fill-color);\n      border-right-color: var(--fill-color);\n    }\n    40% {\n      border-color: transparent;\n      border-right-color: var(--fill-color);\n      border-top-color: var(--fill-color);\n    }\n    60% {\n      border-color: transparent;\n      border-right-color: var(--fill-color);\n    }\n    80% {\n      border-color: transparent;\n      border-right-color: var(--fill-color);\n      border-bottom-color: var(--fill-color);\n    }\n    90% {\n      border-color: transparent;\n      border-bottom-color: var(--fill-color);\n    }\n  }\n</style>\n\n  <script>\n    async function quickchart(key) {\n      const quickchartButtonEl =\n        document.querySelector('#' + key + ' button');\n      quickchartButtonEl.disabled = true;  // To prevent multiple clicks.\n      quickchartButtonEl.classList.add('colab-df-spinner');\n      try {\n        const charts = await google.colab.kernel.invokeFunction(\n            'suggestCharts', [key], {});\n      } catch (error) {\n        console.error('Error during call to suggestCharts:', error);\n      }\n      quickchartButtonEl.classList.remove('colab-df-spinner');\n      quickchartButtonEl.classList.add('colab-df-quickchart-complete');\n    }\n    (() => {\n      let quickchartButtonEl =\n        document.querySelector('#df-5b1f86ae-b863-430e-86cd-8d5f193a2ba7 button');\n      quickchartButtonEl.style.display =\n        google.colab.kernel.accessAllowed ? 'block' : 'none';\n    })();\n  </script>\n</div>\n\n    </div>\n  </div>\n",
                  "application/vnd.google.colaboratory.intrinsic+json": {
                    "type": "dataframe"
                  }
                },
                "metadata": {}
              }
            ]
          }
        },
        "ea2e1ccfbc47432595f0477c0875f70e": {
          "model_module": "@jupyter-widgets/base",
          "model_name": "LayoutModel",
          "model_module_version": "1.2.0",
          "state": {
            "_model_module": "@jupyter-widgets/base",
            "_model_module_version": "1.2.0",
            "_model_name": "LayoutModel",
            "_view_count": null,
            "_view_module": "@jupyter-widgets/base",
            "_view_module_version": "1.2.0",
            "_view_name": "LayoutView",
            "align_content": null,
            "align_items": null,
            "align_self": null,
            "border": null,
            "bottom": null,
            "display": null,
            "flex": null,
            "flex_flow": null,
            "grid_area": null,
            "grid_auto_columns": null,
            "grid_auto_flow": null,
            "grid_auto_rows": null,
            "grid_column": null,
            "grid_gap": null,
            "grid_row": null,
            "grid_template_areas": null,
            "grid_template_columns": null,
            "grid_template_rows": null,
            "height": null,
            "justify_content": null,
            "justify_items": null,
            "left": null,
            "margin": null,
            "max_height": null,
            "max_width": null,
            "min_height": null,
            "min_width": null,
            "object_fit": null,
            "object_position": null,
            "order": null,
            "overflow": null,
            "overflow_x": null,
            "overflow_y": null,
            "padding": null,
            "right": null,
            "top": null,
            "visibility": null,
            "width": null
          }
        },
        "ac1834d3aa7f4891a7be5a6213e90750": {
          "model_module": "@jupyter-widgets/base",
          "model_name": "LayoutModel",
          "model_module_version": "1.2.0",
          "state": {
            "_model_module": "@jupyter-widgets/base",
            "_model_module_version": "1.2.0",
            "_model_name": "LayoutModel",
            "_view_count": null,
            "_view_module": "@jupyter-widgets/base",
            "_view_module_version": "1.2.0",
            "_view_name": "LayoutView",
            "align_content": null,
            "align_items": null,
            "align_self": null,
            "border": null,
            "bottom": null,
            "display": null,
            "flex": null,
            "flex_flow": null,
            "grid_area": null,
            "grid_auto_columns": null,
            "grid_auto_flow": null,
            "grid_auto_rows": null,
            "grid_column": null,
            "grid_gap": null,
            "grid_row": null,
            "grid_template_areas": null,
            "grid_template_columns": null,
            "grid_template_rows": null,
            "height": null,
            "justify_content": null,
            "justify_items": null,
            "left": null,
            "margin": null,
            "max_height": null,
            "max_width": null,
            "min_height": null,
            "min_width": null,
            "object_fit": null,
            "object_position": null,
            "order": null,
            "overflow": null,
            "overflow_x": null,
            "overflow_y": null,
            "padding": null,
            "right": null,
            "top": null,
            "visibility": null,
            "width": null
          }
        },
        "4d1bc54dd0e44b7e953cb941e86a92d7": {
          "model_module": "@jupyter-widgets/controls",
          "model_name": "SliderStyleModel",
          "model_module_version": "1.5.0",
          "state": {
            "_model_module": "@jupyter-widgets/controls",
            "_model_module_version": "1.5.0",
            "_model_name": "SliderStyleModel",
            "_view_count": null,
            "_view_module": "@jupyter-widgets/base",
            "_view_module_version": "1.2.0",
            "_view_name": "StyleView",
            "description_width": "",
            "handle_color": null
          }
        },
        "aaad96d1b3554b14b5c98ea43d45f863": {
          "model_module": "@jupyter-widgets/base",
          "model_name": "LayoutModel",
          "model_module_version": "1.2.0",
          "state": {
            "_model_module": "@jupyter-widgets/base",
            "_model_module_version": "1.2.0",
            "_model_name": "LayoutModel",
            "_view_count": null,
            "_view_module": "@jupyter-widgets/base",
            "_view_module_version": "1.2.0",
            "_view_name": "LayoutView",
            "align_content": null,
            "align_items": null,
            "align_self": null,
            "border": null,
            "bottom": null,
            "display": null,
            "flex": null,
            "flex_flow": null,
            "grid_area": null,
            "grid_auto_columns": null,
            "grid_auto_flow": null,
            "grid_auto_rows": null,
            "grid_column": null,
            "grid_gap": null,
            "grid_row": null,
            "grid_template_areas": null,
            "grid_template_columns": null,
            "grid_template_rows": null,
            "height": null,
            "justify_content": null,
            "justify_items": null,
            "left": null,
            "margin": null,
            "max_height": null,
            "max_width": null,
            "min_height": null,
            "min_width": null,
            "object_fit": null,
            "object_position": null,
            "order": null,
            "overflow": null,
            "overflow_x": null,
            "overflow_y": null,
            "padding": null,
            "right": null,
            "top": null,
            "visibility": null,
            "width": null
          }
        },
        "20f7d61857d943cfacd0eaabf250b445": {
          "model_module": "@jupyter-widgets/controls",
          "model_name": "VBoxModel",
          "model_module_version": "1.5.0",
          "state": {
            "_dom_classes": [
              "widget-interact"
            ],
            "_model_module": "@jupyter-widgets/controls",
            "_model_module_version": "1.5.0",
            "_model_name": "VBoxModel",
            "_view_count": null,
            "_view_module": "@jupyter-widgets/controls",
            "_view_module_version": "1.5.0",
            "_view_name": "VBoxView",
            "box_style": "",
            "children": [
              "IPY_MODEL_c008cf716aaf4291b294acaf92b3a516",
              "IPY_MODEL_e5df3028bc364a82bd239fdfba18bc36"
            ],
            "layout": "IPY_MODEL_0444a6b3b3bb4043b5436aa8d4a756b5"
          }
        },
        "e5df3028bc364a82bd239fdfba18bc36": {
          "model_module": "@jupyter-widgets/output",
          "model_name": "OutputModel",
          "model_module_version": "1.0.0",
          "state": {
            "_dom_classes": [],
            "_model_module": "@jupyter-widgets/output",
            "_model_module_version": "1.0.0",
            "_model_name": "OutputModel",
            "_view_count": null,
            "_view_module": "@jupyter-widgets/output",
            "_view_module_version": "1.0.0",
            "_view_name": "OutputView",
            "layout": "IPY_MODEL_eda3d8b728354548b1056722d732e5bd",
            "msg_id": "",
            "outputs": [
              {
                "output_type": "display_data",
                "data": {
                  "text/plain": "<Figure size 1000x600 with 1 Axes>",
                  "image/png": "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\n"
                },
                "metadata": {}
              }
            ]
          }
        },
        "0444a6b3b3bb4043b5436aa8d4a756b5": {
          "model_module": "@jupyter-widgets/base",
          "model_name": "LayoutModel",
          "model_module_version": "1.2.0",
          "state": {
            "_model_module": "@jupyter-widgets/base",
            "_model_module_version": "1.2.0",
            "_model_name": "LayoutModel",
            "_view_count": null,
            "_view_module": "@jupyter-widgets/base",
            "_view_module_version": "1.2.0",
            "_view_name": "LayoutView",
            "align_content": null,
            "align_items": null,
            "align_self": null,
            "border": null,
            "bottom": null,
            "display": null,
            "flex": null,
            "flex_flow": null,
            "grid_area": null,
            "grid_auto_columns": null,
            "grid_auto_flow": null,
            "grid_auto_rows": null,
            "grid_column": null,
            "grid_gap": null,
            "grid_row": null,
            "grid_template_areas": null,
            "grid_template_columns": null,
            "grid_template_rows": null,
            "height": null,
            "justify_content": null,
            "justify_items": null,
            "left": null,
            "margin": null,
            "max_height": null,
            "max_width": null,
            "min_height": null,
            "min_width": null,
            "object_fit": null,
            "object_position": null,
            "order": null,
            "overflow": null,
            "overflow_x": null,
            "overflow_y": null,
            "padding": null,
            "right": null,
            "top": null,
            "visibility": null,
            "width": null
          }
        },
        "eda3d8b728354548b1056722d732e5bd": {
          "model_module": "@jupyter-widgets/base",
          "model_name": "LayoutModel",
          "model_module_version": "1.2.0",
          "state": {
            "_model_module": "@jupyter-widgets/base",
            "_model_module_version": "1.2.0",
            "_model_name": "LayoutModel",
            "_view_count": null,
            "_view_module": "@jupyter-widgets/base",
            "_view_module_version": "1.2.0",
            "_view_name": "LayoutView",
            "align_content": null,
            "align_items": null,
            "align_self": null,
            "border": null,
            "bottom": null,
            "display": null,
            "flex": null,
            "flex_flow": null,
            "grid_area": null,
            "grid_auto_columns": null,
            "grid_auto_flow": null,
            "grid_auto_rows": null,
            "grid_column": null,
            "grid_gap": null,
            "grid_row": null,
            "grid_template_areas": null,
            "grid_template_columns": null,
            "grid_template_rows": null,
            "height": null,
            "justify_content": null,
            "justify_items": null,
            "left": null,
            "margin": null,
            "max_height": null,
            "max_width": null,
            "min_height": null,
            "min_width": null,
            "object_fit": null,
            "object_position": null,
            "order": null,
            "overflow": null,
            "overflow_x": null,
            "overflow_y": null,
            "padding": null,
            "right": null,
            "top": null,
            "visibility": null,
            "width": null
          }
        },
        "213e9522f9bb491b96ca9fb036589e8c": {
          "model_module": "@jupyter-widgets/controls",
          "model_name": "VBoxModel",
          "model_module_version": "1.5.0",
          "state": {
            "_dom_classes": [
              "widget-interact"
            ],
            "_model_module": "@jupyter-widgets/controls",
            "_model_module_version": "1.5.0",
            "_model_name": "VBoxModel",
            "_view_count": null,
            "_view_module": "@jupyter-widgets/controls",
            "_view_module_version": "1.5.0",
            "_view_name": "VBoxView",
            "box_style": "",
            "children": [
              "IPY_MODEL_7c4a5d6cafdb4988a93e58df9f129614",
              "IPY_MODEL_978e7637e6dc4407854d074e13b30608"
            ],
            "layout": "IPY_MODEL_2137bcdb9c144885b7cf6ac3a9b156ba"
          }
        },
        "978e7637e6dc4407854d074e13b30608": {
          "model_module": "@jupyter-widgets/output",
          "model_name": "OutputModel",
          "model_module_version": "1.0.0",
          "state": {
            "_dom_classes": [],
            "_model_module": "@jupyter-widgets/output",
            "_model_module_version": "1.0.0",
            "_model_name": "OutputModel",
            "_view_count": null,
            "_view_module": "@jupyter-widgets/output",
            "_view_module_version": "1.0.0",
            "_view_name": "OutputView",
            "layout": "IPY_MODEL_1542fb437f8e4ac19cdfefc31d5ca496",
            "msg_id": "",
            "outputs": [
              {
                "output_type": "display_data",
                "data": {
                  "text/plain": "<Figure size 1000x600 with 1 Axes>",
                  "image/png": "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\n"
                },
                "metadata": {}
              }
            ]
          }
        },
        "2137bcdb9c144885b7cf6ac3a9b156ba": {
          "model_module": "@jupyter-widgets/base",
          "model_name": "LayoutModel",
          "model_module_version": "1.2.0",
          "state": {
            "_model_module": "@jupyter-widgets/base",
            "_model_module_version": "1.2.0",
            "_model_name": "LayoutModel",
            "_view_count": null,
            "_view_module": "@jupyter-widgets/base",
            "_view_module_version": "1.2.0",
            "_view_name": "LayoutView",
            "align_content": null,
            "align_items": null,
            "align_self": null,
            "border": null,
            "bottom": null,
            "display": null,
            "flex": null,
            "flex_flow": null,
            "grid_area": null,
            "grid_auto_columns": null,
            "grid_auto_flow": null,
            "grid_auto_rows": null,
            "grid_column": null,
            "grid_gap": null,
            "grid_row": null,
            "grid_template_areas": null,
            "grid_template_columns": null,
            "grid_template_rows": null,
            "height": null,
            "justify_content": null,
            "justify_items": null,
            "left": null,
            "margin": null,
            "max_height": null,
            "max_width": null,
            "min_height": null,
            "min_width": null,
            "object_fit": null,
            "object_position": null,
            "order": null,
            "overflow": null,
            "overflow_x": null,
            "overflow_y": null,
            "padding": null,
            "right": null,
            "top": null,
            "visibility": null,
            "width": null
          }
        },
        "1542fb437f8e4ac19cdfefc31d5ca496": {
          "model_module": "@jupyter-widgets/base",
          "model_name": "LayoutModel",
          "model_module_version": "1.2.0",
          "state": {
            "_model_module": "@jupyter-widgets/base",
            "_model_module_version": "1.2.0",
            "_model_name": "LayoutModel",
            "_view_count": null,
            "_view_module": "@jupyter-widgets/base",
            "_view_module_version": "1.2.0",
            "_view_name": "LayoutView",
            "align_content": null,
            "align_items": null,
            "align_self": null,
            "border": null,
            "bottom": null,
            "display": null,
            "flex": null,
            "flex_flow": null,
            "grid_area": null,
            "grid_auto_columns": null,
            "grid_auto_flow": null,
            "grid_auto_rows": null,
            "grid_column": null,
            "grid_gap": null,
            "grid_row": null,
            "grid_template_areas": null,
            "grid_template_columns": null,
            "grid_template_rows": null,
            "height": null,
            "justify_content": null,
            "justify_items": null,
            "left": null,
            "margin": null,
            "max_height": null,
            "max_width": null,
            "min_height": null,
            "min_width": null,
            "object_fit": null,
            "object_position": null,
            "order": null,
            "overflow": null,
            "overflow_x": null,
            "overflow_y": null,
            "padding": null,
            "right": null,
            "top": null,
            "visibility": null,
            "width": null
          }
        },
        "b87b4396cc90442da316b51335919584": {
          "model_module": "@jupyter-widgets/controls",
          "model_name": "VBoxModel",
          "model_module_version": "1.5.0",
          "state": {
            "_dom_classes": [
              "widget-interact"
            ],
            "_model_module": "@jupyter-widgets/controls",
            "_model_module_version": "1.5.0",
            "_model_name": "VBoxModel",
            "_view_count": null,
            "_view_module": "@jupyter-widgets/controls",
            "_view_module_version": "1.5.0",
            "_view_name": "VBoxView",
            "box_style": "",
            "children": [
              "IPY_MODEL_f1a3eae7e2d8489a902eeeae9314d352",
              "IPY_MODEL_aec5eb06b0054638854b64b2c0c2d925",
              "IPY_MODEL_9d390d4dc6f9409aac1aa47e3b89d13d",
              "IPY_MODEL_286e592e3f9a4187b33afaeb2075e3a2"
            ],
            "layout": "IPY_MODEL_02cd7f75646648d1bac3bc23df358331"
          }
        },
        "f1a3eae7e2d8489a902eeeae9314d352": {
          "model_module": "@jupyter-widgets/controls",
          "model_name": "DropdownModel",
          "model_module_version": "1.5.0",
          "state": {
            "_dom_classes": [],
            "_model_module": "@jupyter-widgets/controls",
            "_model_module_version": "1.5.0",
            "_model_name": "DropdownModel",
            "_options_labels": [
              "anger",
              "fear",
              "anticipation",
              "trust",
              "surprise",
              "sadness",
              "joy",
              "disgust"
            ],
            "_view_count": null,
            "_view_module": "@jupyter-widgets/controls",
            "_view_module_version": "1.5.0",
            "_view_name": "DropdownView",
            "description": "Emotion:",
            "description_tooltip": null,
            "disabled": false,
            "index": 2,
            "layout": "IPY_MODEL_c854270a7b294ddcbbabb8e555ca1b86",
            "style": "IPY_MODEL_d315c7a7009e4094a31ee04d3c758a5c"
          }
        },
        "aec5eb06b0054638854b64b2c0c2d925": {
          "model_module": "@jupyter-widgets/controls",
          "model_name": "FloatSliderModel",
          "model_module_version": "1.5.0",
          "state": {
            "_dom_classes": [],
            "_model_module": "@jupyter-widgets/controls",
            "_model_module_version": "1.5.0",
            "_model_name": "FloatSliderModel",
            "_view_count": null,
            "_view_module": "@jupyter-widgets/controls",
            "_view_module_version": "1.5.0",
            "_view_name": "FloatSliderView",
            "continuous_update": true,
            "description": "Pos/Neg Ratio:",
            "description_tooltip": null,
            "disabled": false,
            "layout": "IPY_MODEL_22a08f71e2564f778dca93d1b8231471",
            "max": 1,
            "min": 0,
            "orientation": "horizontal",
            "readout": true,
            "readout_format": ".2f",
            "step": 0.1,
            "style": "IPY_MODEL_51b19b604e684964b9e47116e51e9475",
            "value": 0
          }
        },
        "9d390d4dc6f9409aac1aa47e3b89d13d": {
          "model_module": "@jupyter-widgets/controls",
          "model_name": "ButtonModel",
          "model_module_version": "1.5.0",
          "state": {
            "_dom_classes": [],
            "_model_module": "@jupyter-widgets/controls",
            "_model_module_version": "1.5.0",
            "_model_name": "ButtonModel",
            "_view_count": null,
            "_view_module": "@jupyter-widgets/controls",
            "_view_module_version": "1.5.0",
            "_view_name": "ButtonView",
            "button_style": "",
            "description": "Run Interact",
            "disabled": false,
            "icon": "",
            "layout": "IPY_MODEL_598bb23665a74d59899f3af10c90cf1f",
            "style": "IPY_MODEL_2e2ccd7101d54817b1d0f1c7e0dfc43f",
            "tooltip": ""
          }
        },
        "286e592e3f9a4187b33afaeb2075e3a2": {
          "model_module": "@jupyter-widgets/output",
          "model_name": "OutputModel",
          "model_module_version": "1.0.0",
          "state": {
            "_dom_classes": [],
            "_model_module": "@jupyter-widgets/output",
            "_model_module_version": "1.0.0",
            "_model_name": "OutputModel",
            "_view_count": null,
            "_view_module": "@jupyter-widgets/output",
            "_view_module_version": "1.0.0",
            "_view_name": "OutputView",
            "layout": "IPY_MODEL_558a719589134d1a8412f7bce490dfdf",
            "msg_id": "",
            "outputs": []
          }
        },
        "02cd7f75646648d1bac3bc23df358331": {
          "model_module": "@jupyter-widgets/base",
          "model_name": "LayoutModel",
          "model_module_version": "1.2.0",
          "state": {
            "_model_module": "@jupyter-widgets/base",
            "_model_module_version": "1.2.0",
            "_model_name": "LayoutModel",
            "_view_count": null,
            "_view_module": "@jupyter-widgets/base",
            "_view_module_version": "1.2.0",
            "_view_name": "LayoutView",
            "align_content": null,
            "align_items": null,
            "align_self": null,
            "border": null,
            "bottom": null,
            "display": null,
            "flex": null,
            "flex_flow": null,
            "grid_area": null,
            "grid_auto_columns": null,
            "grid_auto_flow": null,
            "grid_auto_rows": null,
            "grid_column": null,
            "grid_gap": null,
            "grid_row": null,
            "grid_template_areas": null,
            "grid_template_columns": null,
            "grid_template_rows": null,
            "height": null,
            "justify_content": null,
            "justify_items": null,
            "left": null,
            "margin": null,
            "max_height": null,
            "max_width": null,
            "min_height": null,
            "min_width": null,
            "object_fit": null,
            "object_position": null,
            "order": null,
            "overflow": null,
            "overflow_x": null,
            "overflow_y": null,
            "padding": null,
            "right": null,
            "top": null,
            "visibility": null,
            "width": null
          }
        },
        "c854270a7b294ddcbbabb8e555ca1b86": {
          "model_module": "@jupyter-widgets/base",
          "model_name": "LayoutModel",
          "model_module_version": "1.2.0",
          "state": {
            "_model_module": "@jupyter-widgets/base",
            "_model_module_version": "1.2.0",
            "_model_name": "LayoutModel",
            "_view_count": null,
            "_view_module": "@jupyter-widgets/base",
            "_view_module_version": "1.2.0",
            "_view_name": "LayoutView",
            "align_content": null,
            "align_items": null,
            "align_self": null,
            "border": null,
            "bottom": null,
            "display": null,
            "flex": null,
            "flex_flow": null,
            "grid_area": null,
            "grid_auto_columns": null,
            "grid_auto_flow": null,
            "grid_auto_rows": null,
            "grid_column": null,
            "grid_gap": null,
            "grid_row": null,
            "grid_template_areas": null,
            "grid_template_columns": null,
            "grid_template_rows": null,
            "height": null,
            "justify_content": null,
            "justify_items": null,
            "left": null,
            "margin": null,
            "max_height": null,
            "max_width": null,
            "min_height": null,
            "min_width": null,
            "object_fit": null,
            "object_position": null,
            "order": null,
            "overflow": null,
            "overflow_x": null,
            "overflow_y": null,
            "padding": null,
            "right": null,
            "top": null,
            "visibility": null,
            "width": null
          }
        },
        "d315c7a7009e4094a31ee04d3c758a5c": {
          "model_module": "@jupyter-widgets/controls",
          "model_name": "DescriptionStyleModel",
          "model_module_version": "1.5.0",
          "state": {
            "_model_module": "@jupyter-widgets/controls",
            "_model_module_version": "1.5.0",
            "_model_name": "DescriptionStyleModel",
            "_view_count": null,
            "_view_module": "@jupyter-widgets/base",
            "_view_module_version": "1.2.0",
            "_view_name": "StyleView",
            "description_width": ""
          }
        },
        "22a08f71e2564f778dca93d1b8231471": {
          "model_module": "@jupyter-widgets/base",
          "model_name": "LayoutModel",
          "model_module_version": "1.2.0",
          "state": {
            "_model_module": "@jupyter-widgets/base",
            "_model_module_version": "1.2.0",
            "_model_name": "LayoutModel",
            "_view_count": null,
            "_view_module": "@jupyter-widgets/base",
            "_view_module_version": "1.2.0",
            "_view_name": "LayoutView",
            "align_content": null,
            "align_items": null,
            "align_self": null,
            "border": null,
            "bottom": null,
            "display": null,
            "flex": null,
            "flex_flow": null,
            "grid_area": null,
            "grid_auto_columns": null,
            "grid_auto_flow": null,
            "grid_auto_rows": null,
            "grid_column": null,
            "grid_gap": null,
            "grid_row": null,
            "grid_template_areas": null,
            "grid_template_columns": null,
            "grid_template_rows": null,
            "height": null,
            "justify_content": null,
            "justify_items": null,
            "left": null,
            "margin": null,
            "max_height": null,
            "max_width": null,
            "min_height": null,
            "min_width": null,
            "object_fit": null,
            "object_position": null,
            "order": null,
            "overflow": null,
            "overflow_x": null,
            "overflow_y": null,
            "padding": null,
            "right": null,
            "top": null,
            "visibility": null,
            "width": null
          }
        },
        "51b19b604e684964b9e47116e51e9475": {
          "model_module": "@jupyter-widgets/controls",
          "model_name": "SliderStyleModel",
          "model_module_version": "1.5.0",
          "state": {
            "_model_module": "@jupyter-widgets/controls",
            "_model_module_version": "1.5.0",
            "_model_name": "SliderStyleModel",
            "_view_count": null,
            "_view_module": "@jupyter-widgets/base",
            "_view_module_version": "1.2.0",
            "_view_name": "StyleView",
            "description_width": "",
            "handle_color": null
          }
        },
        "598bb23665a74d59899f3af10c90cf1f": {
          "model_module": "@jupyter-widgets/base",
          "model_name": "LayoutModel",
          "model_module_version": "1.2.0",
          "state": {
            "_model_module": "@jupyter-widgets/base",
            "_model_module_version": "1.2.0",
            "_model_name": "LayoutModel",
            "_view_count": null,
            "_view_module": "@jupyter-widgets/base",
            "_view_module_version": "1.2.0",
            "_view_name": "LayoutView",
            "align_content": null,
            "align_items": null,
            "align_self": null,
            "border": null,
            "bottom": null,
            "display": null,
            "flex": null,
            "flex_flow": null,
            "grid_area": null,
            "grid_auto_columns": null,
            "grid_auto_flow": null,
            "grid_auto_rows": null,
            "grid_column": null,
            "grid_gap": null,
            "grid_row": null,
            "grid_template_areas": null,
            "grid_template_columns": null,
            "grid_template_rows": null,
            "height": null,
            "justify_content": null,
            "justify_items": null,
            "left": null,
            "margin": null,
            "max_height": null,
            "max_width": null,
            "min_height": null,
            "min_width": null,
            "object_fit": null,
            "object_position": null,
            "order": null,
            "overflow": null,
            "overflow_x": null,
            "overflow_y": null,
            "padding": null,
            "right": null,
            "top": null,
            "visibility": null,
            "width": null
          }
        },
        "2e2ccd7101d54817b1d0f1c7e0dfc43f": {
          "model_module": "@jupyter-widgets/controls",
          "model_name": "ButtonStyleModel",
          "model_module_version": "1.5.0",
          "state": {
            "_model_module": "@jupyter-widgets/controls",
            "_model_module_version": "1.5.0",
            "_model_name": "ButtonStyleModel",
            "_view_count": null,
            "_view_module": "@jupyter-widgets/base",
            "_view_module_version": "1.2.0",
            "_view_name": "StyleView",
            "button_color": null,
            "font_weight": ""
          }
        },
        "558a719589134d1a8412f7bce490dfdf": {
          "model_module": "@jupyter-widgets/base",
          "model_name": "LayoutModel",
          "model_module_version": "1.2.0",
          "state": {
            "_model_module": "@jupyter-widgets/base",
            "_model_module_version": "1.2.0",
            "_model_name": "LayoutModel",
            "_view_count": null,
            "_view_module": "@jupyter-widgets/base",
            "_view_module_version": "1.2.0",
            "_view_name": "LayoutView",
            "align_content": null,
            "align_items": null,
            "align_self": null,
            "border": null,
            "bottom": null,
            "display": null,
            "flex": null,
            "flex_flow": null,
            "grid_area": null,
            "grid_auto_columns": null,
            "grid_auto_flow": null,
            "grid_auto_rows": null,
            "grid_column": null,
            "grid_gap": null,
            "grid_row": null,
            "grid_template_areas": null,
            "grid_template_columns": null,
            "grid_template_rows": null,
            "height": null,
            "justify_content": null,
            "justify_items": null,
            "left": null,
            "margin": null,
            "max_height": null,
            "max_width": null,
            "min_height": null,
            "min_width": null,
            "object_fit": null,
            "object_position": null,
            "order": null,
            "overflow": null,
            "overflow_x": null,
            "overflow_y": null,
            "padding": null,
            "right": null,
            "top": null,
            "visibility": null,
            "width": null
          }
        }
      }
    }
  },
  "cells": [
    {
      "cell_type": "markdown",
      "metadata": {
        "id": "view-in-github",
        "colab_type": "text"
      },
      "source": [
        "<a href=\"https://colab.research.google.com/github/kevgam/CAS_IE_Information_Retrieval/blob/main/IR_TEST_ipywidgets.ipynb\" target=\"_parent\"><img src=\"https://colab.research.google.com/assets/colab-badge.svg\" alt=\"Open In Colab\"/></a>"
      ]
    },
    {
      "cell_type": "code",
      "source": [
        "# Installation\n",
        "\n",
        "!pip install ipywidgets\n"
      ],
      "metadata": {
        "colab": {
          "base_uri": "https://localhost:8080/"
        },
        "id": "29uX7b05Nbi6",
        "outputId": "7e0898a1-5dc8-40b5-a480-cf6101e69f48"
      },
      "execution_count": 1,
      "outputs": [
        {
          "output_type": "stream",
          "name": "stdout",
          "text": [
            "Requirement already satisfied: ipywidgets in /usr/local/lib/python3.10/dist-packages (7.7.1)\n",
            "Requirement already satisfied: ipykernel>=4.5.1 in /usr/local/lib/python3.10/dist-packages (from ipywidgets) (5.5.6)\n",
            "Requirement already satisfied: ipython-genutils~=0.2.0 in /usr/local/lib/python3.10/dist-packages (from ipywidgets) (0.2.0)\n",
            "Requirement already satisfied: traitlets>=4.3.1 in /usr/local/lib/python3.10/dist-packages (from ipywidgets) (5.7.1)\n",
            "Requirement already satisfied: widgetsnbextension~=3.6.0 in /usr/local/lib/python3.10/dist-packages (from ipywidgets) (3.6.10)\n",
            "Requirement already satisfied: ipython>=4.0.0 in /usr/local/lib/python3.10/dist-packages (from ipywidgets) (7.34.0)\n",
            "Requirement already satisfied: jupyterlab-widgets>=1.0.0 in /usr/local/lib/python3.10/dist-packages (from ipywidgets) (3.0.13)\n",
            "Requirement already satisfied: jupyter-client in /usr/local/lib/python3.10/dist-packages (from ipykernel>=4.5.1->ipywidgets) (6.1.12)\n",
            "Requirement already satisfied: tornado>=4.2 in /usr/local/lib/python3.10/dist-packages (from ipykernel>=4.5.1->ipywidgets) (6.3.3)\n",
            "Requirement already satisfied: setuptools>=18.5 in /usr/local/lib/python3.10/dist-packages (from ipython>=4.0.0->ipywidgets) (75.1.0)\n",
            "Collecting jedi>=0.16 (from ipython>=4.0.0->ipywidgets)\n",
            "  Downloading jedi-0.19.2-py2.py3-none-any.whl.metadata (22 kB)\n",
            "Requirement already satisfied: decorator in /usr/local/lib/python3.10/dist-packages (from ipython>=4.0.0->ipywidgets) (4.4.2)\n",
            "Requirement already satisfied: pickleshare in /usr/local/lib/python3.10/dist-packages (from ipython>=4.0.0->ipywidgets) (0.7.5)\n",
            "Requirement already satisfied: prompt-toolkit!=3.0.0,!=3.0.1,<3.1.0,>=2.0.0 in /usr/local/lib/python3.10/dist-packages (from ipython>=4.0.0->ipywidgets) (3.0.48)\n",
            "Requirement already satisfied: pygments in /usr/local/lib/python3.10/dist-packages (from ipython>=4.0.0->ipywidgets) (2.18.0)\n",
            "Requirement already satisfied: backcall in /usr/local/lib/python3.10/dist-packages (from ipython>=4.0.0->ipywidgets) (0.2.0)\n",
            "Requirement already satisfied: matplotlib-inline in /usr/local/lib/python3.10/dist-packages (from ipython>=4.0.0->ipywidgets) (0.1.7)\n",
            "Requirement already satisfied: pexpect>4.3 in /usr/local/lib/python3.10/dist-packages (from ipython>=4.0.0->ipywidgets) (4.9.0)\n",
            "Requirement already satisfied: notebook>=4.4.1 in /usr/local/lib/python3.10/dist-packages (from widgetsnbextension~=3.6.0->ipywidgets) (6.5.5)\n",
            "Requirement already satisfied: parso<0.9.0,>=0.8.4 in /usr/local/lib/python3.10/dist-packages (from jedi>=0.16->ipython>=4.0.0->ipywidgets) (0.8.4)\n",
            "Requirement already satisfied: jinja2 in /usr/local/lib/python3.10/dist-packages (from notebook>=4.4.1->widgetsnbextension~=3.6.0->ipywidgets) (3.1.4)\n",
            "Requirement already satisfied: pyzmq<25,>=17 in /usr/local/lib/python3.10/dist-packages (from notebook>=4.4.1->widgetsnbextension~=3.6.0->ipywidgets) (24.0.1)\n",
            "Requirement already satisfied: argon2-cffi in /usr/local/lib/python3.10/dist-packages (from notebook>=4.4.1->widgetsnbextension~=3.6.0->ipywidgets) (23.1.0)\n",
            "Requirement already satisfied: jupyter-core>=4.6.1 in /usr/local/lib/python3.10/dist-packages (from notebook>=4.4.1->widgetsnbextension~=3.6.0->ipywidgets) (5.7.2)\n",
            "Requirement already satisfied: nbformat in /usr/local/lib/python3.10/dist-packages (from notebook>=4.4.1->widgetsnbextension~=3.6.0->ipywidgets) (5.10.4)\n",
            "Requirement already satisfied: nbconvert>=5 in /usr/local/lib/python3.10/dist-packages (from notebook>=4.4.1->widgetsnbextension~=3.6.0->ipywidgets) (7.16.4)\n",
            "Requirement already satisfied: nest-asyncio>=1.5 in /usr/local/lib/python3.10/dist-packages (from notebook>=4.4.1->widgetsnbextension~=3.6.0->ipywidgets) (1.6.0)\n",
            "Requirement already satisfied: Send2Trash>=1.8.0 in /usr/local/lib/python3.10/dist-packages (from notebook>=4.4.1->widgetsnbextension~=3.6.0->ipywidgets) (1.8.3)\n",
            "Requirement already satisfied: terminado>=0.8.3 in /usr/local/lib/python3.10/dist-packages (from notebook>=4.4.1->widgetsnbextension~=3.6.0->ipywidgets) (0.18.1)\n",
            "Requirement already satisfied: prometheus-client in /usr/local/lib/python3.10/dist-packages (from notebook>=4.4.1->widgetsnbextension~=3.6.0->ipywidgets) (0.21.1)\n",
            "Requirement already satisfied: nbclassic>=0.4.7 in /usr/local/lib/python3.10/dist-packages (from notebook>=4.4.1->widgetsnbextension~=3.6.0->ipywidgets) (1.1.0)\n",
            "Requirement already satisfied: python-dateutil>=2.1 in /usr/local/lib/python3.10/dist-packages (from jupyter-client->ipykernel>=4.5.1->ipywidgets) (2.8.2)\n",
            "Requirement already satisfied: ptyprocess>=0.5 in /usr/local/lib/python3.10/dist-packages (from pexpect>4.3->ipython>=4.0.0->ipywidgets) (0.7.0)\n",
            "Requirement already satisfied: wcwidth in /usr/local/lib/python3.10/dist-packages (from prompt-toolkit!=3.0.0,!=3.0.1,<3.1.0,>=2.0.0->ipython>=4.0.0->ipywidgets) (0.2.13)\n",
            "Requirement already satisfied: platformdirs>=2.5 in /usr/local/lib/python3.10/dist-packages (from jupyter-core>=4.6.1->notebook>=4.4.1->widgetsnbextension~=3.6.0->ipywidgets) (4.3.6)\n",
            "Requirement already satisfied: notebook-shim>=0.2.3 in /usr/local/lib/python3.10/dist-packages (from nbclassic>=0.4.7->notebook>=4.4.1->widgetsnbextension~=3.6.0->ipywidgets) (0.2.4)\n",
            "Requirement already satisfied: beautifulsoup4 in /usr/local/lib/python3.10/dist-packages (from nbconvert>=5->notebook>=4.4.1->widgetsnbextension~=3.6.0->ipywidgets) (4.12.3)\n",
            "Requirement already satisfied: bleach!=5.0.0 in /usr/local/lib/python3.10/dist-packages (from nbconvert>=5->notebook>=4.4.1->widgetsnbextension~=3.6.0->ipywidgets) (6.2.0)\n",
            "Requirement already satisfied: defusedxml in /usr/local/lib/python3.10/dist-packages (from nbconvert>=5->notebook>=4.4.1->widgetsnbextension~=3.6.0->ipywidgets) (0.7.1)\n",
            "Requirement already satisfied: jupyterlab-pygments in /usr/local/lib/python3.10/dist-packages (from nbconvert>=5->notebook>=4.4.1->widgetsnbextension~=3.6.0->ipywidgets) (0.3.0)\n",
            "Requirement already satisfied: markupsafe>=2.0 in /usr/local/lib/python3.10/dist-packages (from nbconvert>=5->notebook>=4.4.1->widgetsnbextension~=3.6.0->ipywidgets) (3.0.2)\n",
            "Requirement already satisfied: mistune<4,>=2.0.3 in /usr/local/lib/python3.10/dist-packages (from nbconvert>=5->notebook>=4.4.1->widgetsnbextension~=3.6.0->ipywidgets) (3.0.2)\n",
            "Requirement already satisfied: nbclient>=0.5.0 in /usr/local/lib/python3.10/dist-packages (from nbconvert>=5->notebook>=4.4.1->widgetsnbextension~=3.6.0->ipywidgets) (0.10.1)\n",
            "Requirement already satisfied: packaging in /usr/local/lib/python3.10/dist-packages (from nbconvert>=5->notebook>=4.4.1->widgetsnbextension~=3.6.0->ipywidgets) (24.2)\n",
            "Requirement already satisfied: pandocfilters>=1.4.1 in /usr/local/lib/python3.10/dist-packages (from nbconvert>=5->notebook>=4.4.1->widgetsnbextension~=3.6.0->ipywidgets) (1.5.1)\n",
            "Requirement already satisfied: tinycss2 in /usr/local/lib/python3.10/dist-packages (from nbconvert>=5->notebook>=4.4.1->widgetsnbextension~=3.6.0->ipywidgets) (1.4.0)\n",
            "Requirement already satisfied: fastjsonschema>=2.15 in /usr/local/lib/python3.10/dist-packages (from nbformat->notebook>=4.4.1->widgetsnbextension~=3.6.0->ipywidgets) (2.21.1)\n",
            "Requirement already satisfied: jsonschema>=2.6 in /usr/local/lib/python3.10/dist-packages (from nbformat->notebook>=4.4.1->widgetsnbextension~=3.6.0->ipywidgets) (4.23.0)\n",
            "Requirement already satisfied: six>=1.5 in /usr/local/lib/python3.10/dist-packages (from python-dateutil>=2.1->jupyter-client->ipykernel>=4.5.1->ipywidgets) (1.17.0)\n",
            "Requirement already satisfied: argon2-cffi-bindings in /usr/local/lib/python3.10/dist-packages (from argon2-cffi->notebook>=4.4.1->widgetsnbextension~=3.6.0->ipywidgets) (21.2.0)\n",
            "Requirement already satisfied: webencodings in /usr/local/lib/python3.10/dist-packages (from bleach!=5.0.0->nbconvert>=5->notebook>=4.4.1->widgetsnbextension~=3.6.0->ipywidgets) (0.5.1)\n",
            "Requirement already satisfied: attrs>=22.2.0 in /usr/local/lib/python3.10/dist-packages (from jsonschema>=2.6->nbformat->notebook>=4.4.1->widgetsnbextension~=3.6.0->ipywidgets) (24.3.0)\n",
            "Requirement already satisfied: jsonschema-specifications>=2023.03.6 in /usr/local/lib/python3.10/dist-packages (from jsonschema>=2.6->nbformat->notebook>=4.4.1->widgetsnbextension~=3.6.0->ipywidgets) (2024.10.1)\n",
            "Requirement already satisfied: referencing>=0.28.4 in /usr/local/lib/python3.10/dist-packages (from jsonschema>=2.6->nbformat->notebook>=4.4.1->widgetsnbextension~=3.6.0->ipywidgets) (0.35.1)\n",
            "Requirement already satisfied: rpds-py>=0.7.1 in /usr/local/lib/python3.10/dist-packages (from jsonschema>=2.6->nbformat->notebook>=4.4.1->widgetsnbextension~=3.6.0->ipywidgets) (0.22.3)\n",
            "Requirement already satisfied: jupyter-server<3,>=1.8 in /usr/local/lib/python3.10/dist-packages (from notebook-shim>=0.2.3->nbclassic>=0.4.7->notebook>=4.4.1->widgetsnbextension~=3.6.0->ipywidgets) (1.24.0)\n",
            "Requirement already satisfied: cffi>=1.0.1 in /usr/local/lib/python3.10/dist-packages (from argon2-cffi-bindings->argon2-cffi->notebook>=4.4.1->widgetsnbextension~=3.6.0->ipywidgets) (1.17.1)\n",
            "Requirement already satisfied: soupsieve>1.2 in /usr/local/lib/python3.10/dist-packages (from beautifulsoup4->nbconvert>=5->notebook>=4.4.1->widgetsnbextension~=3.6.0->ipywidgets) (2.6)\n",
            "Requirement already satisfied: pycparser in /usr/local/lib/python3.10/dist-packages (from cffi>=1.0.1->argon2-cffi-bindings->argon2-cffi->notebook>=4.4.1->widgetsnbextension~=3.6.0->ipywidgets) (2.22)\n",
            "Requirement already satisfied: anyio<4,>=3.1.0 in /usr/local/lib/python3.10/dist-packages (from jupyter-server<3,>=1.8->notebook-shim>=0.2.3->nbclassic>=0.4.7->notebook>=4.4.1->widgetsnbextension~=3.6.0->ipywidgets) (3.7.1)\n",
            "Requirement already satisfied: websocket-client in /usr/local/lib/python3.10/dist-packages (from jupyter-server<3,>=1.8->notebook-shim>=0.2.3->nbclassic>=0.4.7->notebook>=4.4.1->widgetsnbextension~=3.6.0->ipywidgets) (1.8.0)\n",
            "Requirement already satisfied: idna>=2.8 in /usr/local/lib/python3.10/dist-packages (from anyio<4,>=3.1.0->jupyter-server<3,>=1.8->notebook-shim>=0.2.3->nbclassic>=0.4.7->notebook>=4.4.1->widgetsnbextension~=3.6.0->ipywidgets) (3.10)\n",
            "Requirement already satisfied: sniffio>=1.1 in /usr/local/lib/python3.10/dist-packages (from anyio<4,>=3.1.0->jupyter-server<3,>=1.8->notebook-shim>=0.2.3->nbclassic>=0.4.7->notebook>=4.4.1->widgetsnbextension~=3.6.0->ipywidgets) (1.3.1)\n",
            "Requirement already satisfied: exceptiongroup in /usr/local/lib/python3.10/dist-packages (from anyio<4,>=3.1.0->jupyter-server<3,>=1.8->notebook-shim>=0.2.3->nbclassic>=0.4.7->notebook>=4.4.1->widgetsnbextension~=3.6.0->ipywidgets) (1.2.2)\n",
            "Downloading jedi-0.19.2-py2.py3-none-any.whl (1.6 MB)\n",
            "\u001b[2K   \u001b[90m━━━━━━━━━━━━━━━━━━━━━━━━━━━━━━━━━━━━━━━━\u001b[0m \u001b[32m1.6/1.6 MB\u001b[0m \u001b[31m18.8 MB/s\u001b[0m eta \u001b[36m0:00:00\u001b[0m\n",
            "\u001b[?25hInstalling collected packages: jedi\n",
            "Successfully installed jedi-0.19.2\n"
          ]
        }
      ]
    },
    {
      "cell_type": "code",
      "source": [
        "# Importieren der Bibliotheken\n",
        "\n",
        "import pandas as pd\n",
        "import matplotlib.pyplot as plt\n",
        "import seaborn as sns\n",
        "from ipywidgets import widgets, interact, interact_manual\n"
      ],
      "metadata": {
        "id": "zCr_4DkMrnHu",
        "collapsed": true
      },
      "execution_count": 2,
      "outputs": []
    },
    {
      "cell_type": "code",
      "source": [
        "# Google Drive verbinden\n",
        "\n",
        "from google.colab import drive\n",
        "drive.mount('/content/drive', force_remount=True)"
      ],
      "metadata": {
        "id": "zkMwPhgnzTc-",
        "colab": {
          "base_uri": "https://localhost:8080/"
        },
        "outputId": "b19a5a53-244d-4c43-eaf7-178a512f5d00"
      },
      "execution_count": 3,
      "outputs": [
        {
          "output_type": "stream",
          "name": "stdout",
          "text": [
            "Mounted at /content/drive\n"
          ]
        }
      ]
    },
    {
      "cell_type": "code",
      "source": [
        "# Lyrics laden\n",
        "data = pd.read_csv('/content/drive/MyDrive/ie_scripting_datasets/Archive/songs_with_emotions_category.csv')\n"
      ],
      "metadata": {
        "id": "6Bq6ezX8zDr7"
      },
      "execution_count": 4,
      "outputs": []
    },
    {
      "cell_type": "markdown",
      "source": [
        "# Interaktive Suche mit ipywidgets"
      ],
      "metadata": {
        "id": "9N34GYtTN0-J"
      }
    },
    {
      "cell_type": "code",
      "source": [
        "# Dorpdown-Suche nach Hauptemotion\n",
        "\n",
        "# Dropdown für Hauptemotion\n",
        "emotion_dropdown = widgets.Dropdown(\n",
        "    options=['anger', 'fear', 'anticipation', 'trust', 'surprise', 'sadness', 'joy', 'disgust'],\n",
        "    description='Emotion:',\n",
        "    value='joy'\n",
        ")\n",
        "\n",
        "# Funktion zur Filterung\n",
        "def filter_by_emotion(emotion):\n",
        "    filtered_data = data[data['primary_emotion'] == emotion]\n",
        "    print(f\"Gefundene Songs mit Emotion '{emotion}': {len(filtered_data)}\")\n",
        "    display(filtered_data[['name', 'artists', 'primary_emotion']])\n",
        "\n",
        "# Interaktive Filterung\n",
        "interact(filter_by_emotion, emotion=emotion_dropdown)\n"
      ],
      "metadata": {
        "colab": {
          "base_uri": "https://localhost:8080/",
          "height": 561,
          "referenced_widgets": [
            "4556bbf4c22e48cab904864e7fdae5a3",
            "c008cf716aaf4291b294acaf92b3a516",
            "40c13d8515104ad79fa6ed6dcec576e7",
            "2597b1b690fc454087027d8fd65de26c",
            "9a5b0935b0db49fd9ee48f871cdb9eab",
            "a7dbc1cd6e544bd5b87952aeb8d5dfdb",
            "dc250735d7184ea2a54a10c79affa0c6"
          ]
        },
        "id": "g83wizd0NyJB",
        "outputId": "f530edc3-e43b-4c1f-eb48-c97b4d489007"
      },
      "execution_count": 11,
      "outputs": [
        {
          "output_type": "display_data",
          "data": {
            "text/plain": [
              "interactive(children=(Dropdown(description='Emotion:', index=6, options=('anger', 'fear', 'anticipation', 'tru…"
            ],
            "application/vnd.jupyter.widget-view+json": {
              "version_major": 2,
              "version_minor": 0,
              "model_id": "4556bbf4c22e48cab904864e7fdae5a3"
            }
          },
          "metadata": {}
        },
        {
          "output_type": "execute_result",
          "data": {
            "text/plain": [
              "<function __main__.filter_by_emotion(emotion)>"
            ],
            "text/html": [
              "<div style=\"max-width:800px; border: 1px solid var(--colab-border-color);\"><style>\n",
              "      pre.function-repr-contents {\n",
              "        overflow-x: auto;\n",
              "        padding: 8px 12px;\n",
              "        max-height: 500px;\n",
              "      }\n",
              "\n",
              "      pre.function-repr-contents.function-repr-contents-collapsed {\n",
              "        cursor: pointer;\n",
              "        max-height: 100px;\n",
              "      }\n",
              "    </style>\n",
              "    <pre style=\"white-space: initial; background:\n",
              "         var(--colab-secondary-surface-color); padding: 8px 12px;\n",
              "         border-bottom: 1px solid var(--colab-border-color);\"><b>filter_by_emotion</b><br/>def filter_by_emotion(emotion)</pre><pre class=\"function-repr-contents function-repr-contents-collapsed\" style=\"\"><a class=\"filepath\" style=\"display:none\" href=\"#\">/content/&lt;ipython-input-11-340d2ff81578&gt;</a>&lt;no docstring&gt;</pre></div>"
            ]
          },
          "metadata": {},
          "execution_count": 11
        }
      ]
    },
    {
      "cell_type": "code",
      "source": [
        "# Slider-Suche nach Sentiment-Ratio\n",
        "\n",
        "# Berechnung der Sentiment-Ratio\n",
        "def calculate_sentiment_ratio(row):\n",
        "    category_counts = eval(row['category_counts'])  # String in Dictionary umwandeln\n",
        "    positive = category_counts.get('positive', 0)\n",
        "    negative = category_counts.get('negative', 0)\n",
        "    if positive + negative > 0:\n",
        "        return positive / (positive + negative)\n",
        "    return 0  # Verhindert Division durch Null\n",
        "\n",
        "# Spalte hinzufügen\n",
        "data['sentiment_ratio'] = data.apply(calculate_sentiment_ratio, axis=1)\n",
        "\n",
        "# Slider für Sentiment-Ratio\n",
        "sentiment_slider = widgets.FloatSlider(\n",
        "    value=0.5,\n",
        "    min=0,\n",
        "    max=1,\n",
        "    step=0.1,\n",
        "    description='Pos/Neg Ratio:'\n",
        ")\n",
        "\n",
        "# Funktion zur Filterung\n",
        "def filter_by_sentiment_ratio(ratio):\n",
        "    filtered_data = data[data['sentiment_ratio'] >= ratio]\n",
        "    print(f\"Gefundene Songs mit Sentiment-Ratio >= {ratio}: {len(filtered_data)}\")\n",
        "    display(filtered_data[['name', 'artists', 'sentiment_ratio']])\n",
        "\n",
        "# Interaktive Filterung\n",
        "interact(filter_by_sentiment_ratio, ratio=sentiment_slider)\n"
      ],
      "metadata": {
        "colab": {
          "base_uri": "https://localhost:8080/",
          "height": 561,
          "referenced_widgets": [
            "9edb32af66cf4ec6b1864cdd3a1b65d5",
            "7c4a5d6cafdb4988a93e58df9f129614",
            "25f8a5905d8944049bc64947b0a8bea1",
            "ea2e1ccfbc47432595f0477c0875f70e",
            "ac1834d3aa7f4891a7be5a6213e90750",
            "4d1bc54dd0e44b7e953cb941e86a92d7",
            "aaad96d1b3554b14b5c98ea43d45f863"
          ]
        },
        "id": "gtfM4GVSOBBS",
        "outputId": "33fea4d7-5f64-42f5-f75e-3edbfb285776"
      },
      "execution_count": 12,
      "outputs": [
        {
          "output_type": "display_data",
          "data": {
            "text/plain": [
              "interactive(children=(FloatSlider(value=0.5, description='Pos/Neg Ratio:', max=1.0), Output()), _dom_classes=(…"
            ],
            "application/vnd.jupyter.widget-view+json": {
              "version_major": 2,
              "version_minor": 0,
              "model_id": "9edb32af66cf4ec6b1864cdd3a1b65d5"
            }
          },
          "metadata": {}
        },
        {
          "output_type": "execute_result",
          "data": {
            "text/plain": [
              "<function __main__.filter_by_sentiment_ratio(ratio)>"
            ],
            "text/html": [
              "<div style=\"max-width:800px; border: 1px solid var(--colab-border-color);\"><style>\n",
              "      pre.function-repr-contents {\n",
              "        overflow-x: auto;\n",
              "        padding: 8px 12px;\n",
              "        max-height: 500px;\n",
              "      }\n",
              "\n",
              "      pre.function-repr-contents.function-repr-contents-collapsed {\n",
              "        cursor: pointer;\n",
              "        max-height: 100px;\n",
              "      }\n",
              "    </style>\n",
              "    <pre style=\"white-space: initial; background:\n",
              "         var(--colab-secondary-surface-color); padding: 8px 12px;\n",
              "         border-bottom: 1px solid var(--colab-border-color);\"><b>filter_by_sentiment_ratio</b><br/>def filter_by_sentiment_ratio(ratio)</pre><pre class=\"function-repr-contents function-repr-contents-collapsed\" style=\"\"><a class=\"filepath\" style=\"display:none\" href=\"#\">/content/&lt;ipython-input-12-fcfa3da711a1&gt;</a>&lt;no docstring&gt;</pre></div>"
            ]
          },
          "metadata": {},
          "execution_count": 12
        }
      ]
    },
    {
      "cell_type": "markdown",
      "source": [
        "# Interaktive Visualisierung"
      ],
      "metadata": {
        "id": "fx_ODB2DOIP-"
      }
    },
    {
      "cell_type": "code",
      "source": [
        "# Emotionen visualisieren\n",
        "\n",
        "# Funktion zur Visualisierung\n",
        "def plot_emotions(emotion):\n",
        "    filtered_data = data[data['primary_emotion'] == emotion]\n",
        "    emotion_totals = filtered_data['category_counts'].apply(eval).apply(pd.Series).sum()\n",
        "\n",
        "    plt.figure(figsize=(10, 6))\n",
        "    sns.barplot(x=emotion_totals.index, y=emotion_totals.values)\n",
        "    plt.title(f\"Emotion Distribution for '{emotion}' Songs\")\n",
        "    plt.xlabel(\"Emotion\")\n",
        "    plt.ylabel(\"Count\")\n",
        "    plt.xticks(rotation=45)\n",
        "    plt.show()\n",
        "\n",
        "# Interaktive Visualisierung\n",
        "interact(plot_emotions, emotion=emotion_dropdown)\n"
      ],
      "metadata": {
        "colab": {
          "base_uri": "https://localhost:8080/",
          "height": 737,
          "referenced_widgets": [
            "20f7d61857d943cfacd0eaabf250b445",
            "c008cf716aaf4291b294acaf92b3a516",
            "e5df3028bc364a82bd239fdfba18bc36",
            "0444a6b3b3bb4043b5436aa8d4a756b5",
            "9a5b0935b0db49fd9ee48f871cdb9eab",
            "a7dbc1cd6e544bd5b87952aeb8d5dfdb",
            "eda3d8b728354548b1056722d732e5bd"
          ]
        },
        "id": "DusnL0aiOGym",
        "outputId": "2c4e25fd-5262-4d88-f8c2-3189bb6856f2"
      },
      "execution_count": 13,
      "outputs": [
        {
          "output_type": "display_data",
          "data": {
            "text/plain": [
              "interactive(children=(Dropdown(description='Emotion:', index=6, options=('anger', 'fear', 'anticipation', 'tru…"
            ],
            "application/vnd.jupyter.widget-view+json": {
              "version_major": 2,
              "version_minor": 0,
              "model_id": "20f7d61857d943cfacd0eaabf250b445"
            }
          },
          "metadata": {}
        },
        {
          "output_type": "execute_result",
          "data": {
            "text/plain": [
              "<function __main__.plot_emotions(emotion)>"
            ],
            "text/html": [
              "<div style=\"max-width:800px; border: 1px solid var(--colab-border-color);\"><style>\n",
              "      pre.function-repr-contents {\n",
              "        overflow-x: auto;\n",
              "        padding: 8px 12px;\n",
              "        max-height: 500px;\n",
              "      }\n",
              "\n",
              "      pre.function-repr-contents.function-repr-contents-collapsed {\n",
              "        cursor: pointer;\n",
              "        max-height: 100px;\n",
              "      }\n",
              "    </style>\n",
              "    <pre style=\"white-space: initial; background:\n",
              "         var(--colab-secondary-surface-color); padding: 8px 12px;\n",
              "         border-bottom: 1px solid var(--colab-border-color);\"><b>plot_emotions</b><br/>def plot_emotions(emotion)</pre><pre class=\"function-repr-contents function-repr-contents-collapsed\" style=\"\"><a class=\"filepath\" style=\"display:none\" href=\"#\">/content/&lt;ipython-input-13-477a5300c2a3&gt;</a>&lt;no docstring&gt;</pre></div>"
            ]
          },
          "metadata": {},
          "execution_count": 13
        }
      ]
    },
    {
      "cell_type": "code",
      "source": [
        "# Sentiment-Verhältnis als Histogramm\n",
        "\n",
        "def plot_sentiment_histogram(ratio):\n",
        "    filtered_data = data[data['sentiment_ratio'] >= ratio]\n",
        "    plt.figure(figsize=(10, 6))\n",
        "    sns.histplot(filtered_data['sentiment_ratio'], kde=True, bins=10)\n",
        "    plt.title(f\"Sentiment Ratio Distribution (Ratio >= {ratio})\")\n",
        "    plt.xlabel(\"Sentiment Ratio (Positive/Total)\")\n",
        "    plt.ylabel(\"Frequency\")\n",
        "    plt.show()\n",
        "\n",
        "# Interaktive Visualisierung\n",
        "interact(plot_sentiment_histogram, ratio=sentiment_slider)\n"
      ],
      "metadata": {
        "colab": {
          "base_uri": "https://localhost:8080/",
          "height": 683,
          "referenced_widgets": [
            "213e9522f9bb491b96ca9fb036589e8c",
            "7c4a5d6cafdb4988a93e58df9f129614",
            "978e7637e6dc4407854d074e13b30608",
            "2137bcdb9c144885b7cf6ac3a9b156ba",
            "ac1834d3aa7f4891a7be5a6213e90750",
            "4d1bc54dd0e44b7e953cb941e86a92d7",
            "1542fb437f8e4ac19cdfefc31d5ca496"
          ]
        },
        "id": "UK3xpnJqOQr_",
        "outputId": "0407edf9-28d7-4fbb-9c79-bab7d9e62c37"
      },
      "execution_count": 14,
      "outputs": [
        {
          "output_type": "display_data",
          "data": {
            "text/plain": [
              "interactive(children=(FloatSlider(value=0.0, description='Pos/Neg Ratio:', max=1.0), Output()), _dom_classes=(…"
            ],
            "application/vnd.jupyter.widget-view+json": {
              "version_major": 2,
              "version_minor": 0,
              "model_id": "213e9522f9bb491b96ca9fb036589e8c"
            }
          },
          "metadata": {}
        },
        {
          "output_type": "execute_result",
          "data": {
            "text/plain": [
              "<function __main__.plot_sentiment_histogram(ratio)>"
            ],
            "text/html": [
              "<div style=\"max-width:800px; border: 1px solid var(--colab-border-color);\"><style>\n",
              "      pre.function-repr-contents {\n",
              "        overflow-x: auto;\n",
              "        padding: 8px 12px;\n",
              "        max-height: 500px;\n",
              "      }\n",
              "\n",
              "      pre.function-repr-contents.function-repr-contents-collapsed {\n",
              "        cursor: pointer;\n",
              "        max-height: 100px;\n",
              "      }\n",
              "    </style>\n",
              "    <pre style=\"white-space: initial; background:\n",
              "         var(--colab-secondary-surface-color); padding: 8px 12px;\n",
              "         border-bottom: 1px solid var(--colab-border-color);\"><b>plot_sentiment_histogram</b><br/>def plot_sentiment_histogram(ratio)</pre><pre class=\"function-repr-contents function-repr-contents-collapsed\" style=\"\"><a class=\"filepath\" style=\"display:none\" href=\"#\">/content/&lt;ipython-input-14-135c0e49a409&gt;</a>&lt;no docstring&gt;</pre></div>"
            ]
          },
          "metadata": {},
          "execution_count": 14
        }
      ]
    },
    {
      "cell_type": "markdown",
      "source": [
        "# Interaktives Dashboard"
      ],
      "metadata": {
        "id": "PVO7-wGZOYtf"
      }
    },
    {
      "cell_type": "code",
      "source": [
        "# Button für die interaktive Filterung und Visualisierung\n",
        "def dashboard(emotion, ratio):\n",
        "    filtered_data = data[(data['primary_emotion'] == emotion) & (data['sentiment_ratio'] >= ratio)]\n",
        "    print(f\"Gefundene Songs mit Emotion '{emotion}' und Sentiment-Ratio >= {ratio}: {len(filtered_data)}\")\n",
        "    display(filtered_data[['name', 'artists', 'primary_emotion', 'sentiment_ratio']])\n",
        "\n",
        "    # Visualisierung der Emotionen\n",
        "    if not filtered_data.empty:\n",
        "        emotion_totals = filtered_data['category_counts'].apply(eval).apply(pd.Series).sum()\n",
        "        plt.figure(figsize=(10, 6))\n",
        "        sns.barplot(x=emotion_totals.index, y=emotion_totals.values)\n",
        "        plt.title(f\"Emotion Distribution for '{emotion}' Songs\")\n",
        "        plt.xlabel(\"Emotion\")\n",
        "        plt.ylabel(\"Count\")\n",
        "        plt.xticks(rotation=45)\n",
        "        plt.show()\n",
        "\n",
        "emotion_dropdown = widgets.Dropdown(options=['anger', 'fear', 'anticipation', 'trust', 'surprise', 'sadness', 'joy', 'disgust'], description='Emotion:')\n",
        "sentiment_slider = widgets.FloatSlider(value=0.5, min=0, max=1, step=0.1, description='Pos/Neg Ratio:')\n",
        "interact_manual(dashboard, emotion=emotion_dropdown, ratio=sentiment_slider)\n"
      ],
      "metadata": {
        "colab": {
          "base_uri": "https://localhost:8080/",
          "height": 200,
          "referenced_widgets": [
            "b87b4396cc90442da316b51335919584",
            "f1a3eae7e2d8489a902eeeae9314d352",
            "aec5eb06b0054638854b64b2c0c2d925",
            "9d390d4dc6f9409aac1aa47e3b89d13d",
            "286e592e3f9a4187b33afaeb2075e3a2",
            "02cd7f75646648d1bac3bc23df358331",
            "c854270a7b294ddcbbabb8e555ca1b86",
            "d315c7a7009e4094a31ee04d3c758a5c",
            "22a08f71e2564f778dca93d1b8231471",
            "51b19b604e684964b9e47116e51e9475",
            "598bb23665a74d59899f3af10c90cf1f",
            "2e2ccd7101d54817b1d0f1c7e0dfc43f",
            "558a719589134d1a8412f7bce490dfdf"
          ]
        },
        "id": "F1hxNgkgOWY0",
        "outputId": "3eec05aa-e03f-47a1-ae35-a03e24c0f6a9"
      },
      "execution_count": 15,
      "outputs": [
        {
          "output_type": "display_data",
          "data": {
            "text/plain": [
              "interactive(children=(Dropdown(description='Emotion:', options=('anger', 'fear', 'anticipation', 'trust', 'sur…"
            ],
            "application/vnd.jupyter.widget-view+json": {
              "version_major": 2,
              "version_minor": 0,
              "model_id": "b87b4396cc90442da316b51335919584"
            }
          },
          "metadata": {}
        },
        {
          "output_type": "execute_result",
          "data": {
            "text/plain": [
              "<function __main__.dashboard(emotion, ratio)>"
            ],
            "text/html": [
              "<div style=\"max-width:800px; border: 1px solid var(--colab-border-color);\"><style>\n",
              "      pre.function-repr-contents {\n",
              "        overflow-x: auto;\n",
              "        padding: 8px 12px;\n",
              "        max-height: 500px;\n",
              "      }\n",
              "\n",
              "      pre.function-repr-contents.function-repr-contents-collapsed {\n",
              "        cursor: pointer;\n",
              "        max-height: 100px;\n",
              "      }\n",
              "    </style>\n",
              "    <pre style=\"white-space: initial; background:\n",
              "         var(--colab-secondary-surface-color); padding: 8px 12px;\n",
              "         border-bottom: 1px solid var(--colab-border-color);\"><b>dashboard</b><br/>def dashboard(emotion, ratio)</pre><pre class=\"function-repr-contents function-repr-contents-collapsed\" style=\"\"><a class=\"filepath\" style=\"display:none\" href=\"#\">/content/&lt;ipython-input-15-12654bf5c0b3&gt;</a>&lt;no docstring&gt;</pre></div>"
            ]
          },
          "metadata": {},
          "execution_count": 15
        }
      ]
    }
  ]
}